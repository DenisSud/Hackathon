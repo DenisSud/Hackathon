{
 "cells": [
  {
   "cell_type": "code",
   "execution_count": 89,
   "metadata": {},
   "outputs": [],
   "source": [
    "import pandas as pd\n",
    "import numpy as np\n",
    "import matplotlib.pyplot as plt\n",
    "import seaborn as sns"
   ]
  },
  {
   "cell_type": "markdown",
   "metadata": {},
   "source": [
    "## Читаем данные"
   ]
  },
  {
   "cell_type": "code",
   "execution_count": 90,
   "metadata": {},
   "outputs": [
    {
     "name": "stdout",
     "output_type": "stream",
     "text": [
      "Форма данных: (1323, 36)\n"
     ]
    }
   ],
   "source": [
    "data = pd.read_excel('ecology_cleaned 1.xlsx')\n",
    "print('Форма данных:', data.shape)"
   ]
  },
  {
   "cell_type": "markdown",
   "metadata": {},
   "source": [
    "## Пропущенные значения в колонках"
   ]
  },
  {
   "cell_type": "code",
   "execution_count": 91,
   "metadata": {},
   "outputs": [
    {
     "data": {
      "text/plain": [
       "Как часто фирма отслеживала потребление энергии последние 3 года?                              542\n",
       "Как часто фирма отслеживала потребление воды последние 3 года?                                 852\n",
       "За последние 3 года фирма отслеживала выбросы CO2 (углекислого газа)?                         1157\n",
       "Какая мера в наибольшей степени способствовала уменьшению воздействия на окружающую среду?     652\n",
       "Какова основная причина того, что меры для повышения энергоэффективности не применялись?       447\n",
       "dtype: int64"
      ]
     },
     "execution_count": 91,
     "metadata": {},
     "output_type": "execute_result"
    }
   ],
   "source": [
    "data.isnull().sum()[data.isnull().sum() > 0]"
   ]
  },
  {
   "cell_type": "markdown",
   "metadata": {},
   "source": [
    "# Создание индекса вовлеченности"
   ]
  },
  {
   "cell_type": "code",
   "execution_count": 92,
   "metadata": {},
   "outputs": [
    {
     "name": "stdout",
     "output_type": "stream",
     "text": [
      "Количество признаков на вовлеченность в экологию:  13\n"
     ]
    }
   ],
   "source": [
    "eco_factors = [\n",
    "    \"Улучшение систем подогрева и охлаждения\",\n",
    "    \"Применение более благоприятных для климата источников энергии\",\n",
    "    \"Модернизация оборудования\",\n",
    "    \"Управление энергопотреблением\",\n",
    "    \"Минимизация отходов, переработка\",\n",
    "    \"Меры по ограничению загрязнения воздуха\",\n",
    "    \"Управление потреблением воды\",\n",
    "    \"Модернизация транспортных средств, судов, самолетов\",\n",
    "    \"Усовершенствование системы освещения\",\n",
    "    \"Меры по ограничению загрязнения окружающей среды\",\n",
    "    \"Последние 3 года фирма принимала меры для повышения энергоэффективности?\",\n",
    "    \"Последние 3 года фирма имела целевые уровни по потреблению энергии?\",\n",
    "    \"За последние 3 года фирма осуществляла выбросы CO2 (углекислого газа)?\"\n",
    "]\n",
    "\n",
    "print('Количество признаков на вовлеченность в экологию: ', len(eco_factors))"
   ]
  },
  {
   "cell_type": "code",
   "execution_count": 93,
   "metadata": {},
   "outputs": [],
   "source": [
    "def replace_values(column):\n",
    "    return column.map({'Да': 1, 'Нет': 0}).fillna(-1).astype(int)\n",
    "\n",
    "cols = []\n",
    "for i in data.columns:\n",
    "    cols.append(i.strip().lower())\n",
    "\n",
    "for column_name in eco_factors:\n",
    "    col = column_name.strip().lower()\n",
    "    if col in cols:\n",
    "        data[column_name] = replace_values(data[column_name])"
   ]
  },
  {
   "cell_type": "code",
   "execution_count": 94,
   "metadata": {},
   "outputs": [
    {
     "name": "stderr",
     "output_type": "stream",
     "text": [
      "/var/folders/mh/lrx97nzx0f785c2syyjkkc3w0000gn/T/ipykernel_2207/2813948732.py:28: SettingWithCopyWarning: \n",
      "A value is trying to be set on a copy of a slice from a DataFrame\n",
      "\n",
      "See the caveats in the documentation: https://pandas.pydata.org/pandas-docs/stable/user_guide/indexing.html#returning-a-view-versus-a-copy\n",
      "  data['involve in ecology index'][i] = result_index\n",
      "/var/folders/mh/lrx97nzx0f785c2syyjkkc3w0000gn/T/ipykernel_2207/2813948732.py:28: FutureWarning: Setting an item of incompatible dtype is deprecated and will raise in a future error of pandas. Value '0.25462023674021994' has dtype incompatible with int64, please explicitly cast to a compatible dtype first.\n",
      "  data['involve in ecology index'][i] = result_index\n"
     ]
    }
   ],
   "source": [
    "data['involve in ecology index'] = -1\n",
    "\n",
    "for i in range(len(data)):\n",
    "    result_index = 0 # итоговый индекс вовлеченности компании\n",
    "\n",
    "    industry = data['Отрасль экономики, к которой относится фирма'][i]\n",
    "    n_companies_in_industry = len(data[data['Отрасль экономики, к которой относится фирма'] == industry])\n",
    "\n",
    "    summary = 0\n",
    "    sum_weights = 0\n",
    "\n",
    "    for factor in eco_factors:\n",
    "        n_yes_companies_in_industry = len(data[(data['Отрасль экономики, к которой относится фирма'] == industry) & (data[factor] == 1)])\n",
    "        if n_yes_companies_in_industry != 0:\n",
    "            weight = float(n_companies_in_industry) / n_yes_companies_in_industry\n",
    "        else:\n",
    "            continue\n",
    "        \n",
    "        if data[factor][i] != -1:\n",
    "            summary += float(data[factor][i]) * weight\n",
    "            sum_weights += weight\n",
    "\n",
    "    if sum_weights == 0:\n",
    "        result_index = 0\n",
    "    else:\n",
    "        result_index = summary / sum_weights\n",
    "\n",
    "    data['involve in ecology index'][i] = result_index"
   ]
  },
  {
   "cell_type": "code",
   "execution_count": null,
   "metadata": {},
   "outputs": [],
   "source": [
    "data.to_excel('ecology_with_index.xlsx')"
   ]
  }
 ],
 "metadata": {
  "kernelspec": {
   "display_name": "Python 3",
   "language": "python",
   "name": "python3"
  },
  "language_info": {
   "codemirror_mode": {
    "name": "ipython",
    "version": 3
   },
   "file_extension": ".py",
   "mimetype": "text/x-python",
   "name": "python",
   "nbconvert_exporter": "python",
   "pygments_lexer": "ipython3",
   "version": "3.11.3"
  }
 },
 "nbformat": 4,
 "nbformat_minor": 2
}
